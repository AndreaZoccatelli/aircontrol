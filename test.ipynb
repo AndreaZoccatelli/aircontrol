{
 "cells": [
  {
   "cell_type": "markdown",
   "metadata": {},
   "source": [
    "# Control PC with Hands"
   ]
  },
  {
   "cell_type": "code",
   "execution_count": 1,
   "metadata": {},
   "outputs": [],
   "source": [
    "from aircontrol.utils import get_window, numlock_off\n",
    "from aircontrol.const import BaseOptions, GestureRecognizer, GestureRecognizerOptions, VisionRunningMode, model_path\n",
    "from aircontrol.params import window_aware_gestures\n",
    "from aircontrol.models.midas import MidasModel\n",
    "import mediapipe as mp\n",
    "import cv2 as cv\n",
    "import numpy as np\n",
    "import time\n",
    "import os"
   ]
  },
  {
   "cell_type": "markdown",
   "metadata": {},
   "source": [
    "## Callback"
   ]
  },
  {
   "cell_type": "code",
   "execution_count": 2,
   "metadata": {},
   "outputs": [],
   "source": [
    "def action_callback(result, output_image: mp.Image, timestamp_ms: int):\n",
    "    global window_aware_gestures\n",
    "    global key_pressed\n",
    "    if not key_pressed:\n",
    "        try:\n",
    "            window, sub_window = get_window()\n",
    "            sign = result.gestures[0][0].category_name\n",
    "            if sign != \"none\" and sign != \"\":\n",
    "                try:\n",
    "                    func = window_aware_gestures[window][sub_window][sign]\n",
    "                except KeyError:  # if action or window not specified in the dict\n",
    "                    try:\n",
    "                        func = window_aware_gestures[window][sign]\n",
    "                    except KeyError:\n",
    "                        func = window_aware_gestures[\"General\"][sign]\n",
    "                numlock_off()\n",
    "                if callable(func):\n",
    "                    func()\n",
    "                else:\n",
    "                    pos = result.hand_landmarks[0]\n",
    "                    x_values = [d.x for d in pos]\n",
    "                    xavg = np.mean(x_values)\n",
    "                    if (\n",
    "                        result.handedness[0][0].category_name == \"Right\"\n",
    "                        and xavg >= 0.65\n",
    "                    ):\n",
    "                        func[\"Right\"]()\n",
    "                    elif (\n",
    "                        result.handedness[0][0].category_name == \"Left\" and xavg <= 0.35\n",
    "                    ):\n",
    "                        func[\"Left\"]()\n",
    "                    else:\n",
    "                        func[\"Center\"]()\n",
    "            key_pressed = True\n",
    "        except:\n",
    "            pass"
   ]
  },
  {
   "cell_type": "markdown",
   "metadata": {},
   "source": [
    "## MediaPipe Configuration"
   ]
  },
  {
   "cell_type": "code",
   "execution_count": 3,
   "metadata": {},
   "outputs": [],
   "source": [
    "options = GestureRecognizerOptions(\n",
    "    base_options=BaseOptions(\n",
    "        model_asset_path=os.path.join(\n",
    "            os.getcwd(), model_path\n",
    "        )\n",
    "    ),\n",
    "    running_mode=VisionRunningMode.LIVE_STREAM,\n",
    "    result_callback=action_callback,\n",
    ")\n",
    "\n",
    "recognizer = GestureRecognizer.create_from_options(options)"
   ]
  },
  {
   "cell_type": "markdown",
   "metadata": {},
   "source": [
    "## Make detection easier with MiDaS"
   ]
  },
  {
   "cell_type": "code",
   "execution_count": 4,
   "metadata": {},
   "outputs": [
    {
     "name": "stderr",
     "output_type": "stream",
     "text": [
      "Using cache found in C:\\Users\\Andrea/.cache\\torch\\hub\\intel-isl_MiDaS_master\n",
      "c:\\Users\\Andrea\\Documenti\\aircontrol\\venv\\lib\\site-packages\\tqdm\\auto.py:21: TqdmWarning: IProgress not found. Please update jupyter and ipywidgets. See https://ipywidgets.readthedocs.io/en/stable/user_install.html\n",
      "  from .autonotebook import tqdm as notebook_tqdm\n",
      "c:\\Users\\Andrea\\Documenti\\aircontrol\\venv\\lib\\site-packages\\timm\\models\\_factory.py:117: UserWarning: Mapping deprecated model name vit_base_resnet50_384 to current vit_base_r50_s16_384.orig_in21k_ft_in1k.\n",
      "  model = create_fn(\n",
      "Using cache found in C:\\Users\\Andrea/.cache\\torch\\hub\\intel-isl_MiDaS_master\n"
     ]
    }
   ],
   "source": [
    "midas=MidasModel()"
   ]
  },
  {
   "cell_type": "markdown",
   "metadata": {},
   "source": [
    "## The detection loop"
   ]
  },
  {
   "cell_type": "code",
   "execution_count": null,
   "metadata": {},
   "outputs": [],
   "source": [
    "cam=cv.VideoCapture(0)\n",
    "print('Starting...')\n",
    "key_pressed=False\n",
    "while True:\n",
    "    success, frame=cam.read()\n",
    "    frame=cv.flip(frame, 1)\n",
    "    \n",
    "    if not success:\n",
    "        print(\"Camera Frame not available\")\n",
    "        continue\n",
    "    \n",
    "    adjusted_frame=midas.predict_adjust(frame)\n",
    "\n",
    "    frame_mp=mp.Image(image_format=mp.ImageFormat.SRGB, data=adjusted_frame)\n",
    "    \n",
    "    timestamp_seconds=time.time()\n",
    "    frame_timestamp_ms=int(timestamp_seconds * 1000)\n",
    "\n",
    "    if not key_pressed:\n",
    "        recognizer.recognize_async(frame_mp, frame_timestamp_ms)\n",
    "    \n",
    "    if key_pressed:\n",
    "        key_pressed=False\n",
    "    cv.imshow(\"Show Video\", adjusted_frame)\n",
    "    \n",
    "    if cv.waitKey(20) & 0xff==ord('q'):\n",
    "        cam.release()\n",
    "        break\n",
    "\n",
    "cam.release()\n",
    "cv.destroyAllWindows()"
   ]
  }
 ],
 "metadata": {
  "kernelspec": {
   "display_name": "Python 3",
   "language": "python",
   "name": "python3"
  },
  "language_info": {
   "codemirror_mode": {
    "name": "ipython",
    "version": 3
   },
   "file_extension": ".py",
   "mimetype": "text/x-python",
   "name": "python",
   "nbconvert_exporter": "python",
   "pygments_lexer": "ipython3",
   "version": "3.9.2"
  }
 },
 "nbformat": 4,
 "nbformat_minor": 2
}
