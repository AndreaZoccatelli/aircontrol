{
 "cells": [
  {
   "cell_type": "markdown",
   "metadata": {},
   "source": [
    "# AirControl, control PC with hands"
   ]
  },
  {
   "cell_type": "code",
   "execution_count": 1,
   "metadata": {},
   "outputs": [],
   "source": [
    "from aircontrol.utils import get_window, numlock_off\n",
    "from aircontrol.const import (\n",
    "    BaseOptions,\n",
    "    GestureRecognizer,\n",
    "    GestureRecognizerOptions,\n",
    "    VisionRunningMode,\n",
    "    model_path,\n",
    ")\n",
    "from aircontrol.params import window_aware_gestures\n",
    "from aircontrol.models.midas import MidasModel\n",
    "import mediapipe as mp\n",
    "import cv2 as cv\n",
    "import numpy as np\n",
    "import time\n",
    "import os"
   ]
  },
  {
   "cell_type": "markdown",
   "metadata": {},
   "source": [
    "## Callback"
   ]
  },
  {
   "cell_type": "markdown",
   "metadata": {},
   "source": [
    "When a gesture is detected, if the opened window has been specified in the file ```params.py``` the program will execute the assigned action; if not, the called function will be one of the \"General\" dictionary.\n",
    "\n",
    "The check on the x median point of the hand landmarks is used to determine the position on the x axis of the hand and, if defined, call the position-aware function."
   ]
  },
  {
   "cell_type": "code",
   "execution_count": 2,
   "metadata": {},
   "outputs": [],
   "source": [
    "def action_callback(result, output_image: mp.Image, timestamp_ms: int):\n",
    "    global window_aware_gestures\n",
    "    global key_pressed\n",
    "    if not key_pressed:\n",
    "        try:\n",
    "            window, sub_window = get_window()\n",
    "            sign = result.gestures[0][0].category_name\n",
    "            if sign != \"none\" and sign != \"\":\n",
    "                try:\n",
    "                    func = window_aware_gestures[window][sub_window][sign]\n",
    "                except KeyError:  # if action or window not specified in the dict\n",
    "                    try:\n",
    "                        func = window_aware_gestures[window][sign]\n",
    "                    except KeyError:\n",
    "                        func = window_aware_gestures[\"General\"][sign]\n",
    "                numlock_off()\n",
    "                if callable(func):\n",
    "                    func()\n",
    "\n",
    "                else:\n",
    "                    pos = result.hand_landmarks[0]\n",
    "                    x_values = [d.x for d in pos]\n",
    "                    xmid = np.median(x_values)\n",
    "                    if xmid > 0.55:\n",
    "                        func[\"Right\"]()\n",
    "                    elif xmid < 0.45:\n",
    "                        func[\"Left\"]()\n",
    "\n",
    "                    else:\n",
    "                        func[\"Center\"]()\n",
    "            key_pressed = True\n",
    "        except:\n",
    "            pass"
   ]
  },
  {
   "cell_type": "markdown",
   "metadata": {},
   "source": [
    "## MediaPipe Configuration"
   ]
  },
  {
   "cell_type": "code",
   "execution_count": 3,
   "metadata": {},
   "outputs": [],
   "source": [
    "options = GestureRecognizerOptions(\n",
    "    base_options=BaseOptions(model_asset_path=os.path.join(os.getcwd(), model_path)),\n",
    "    running_mode=VisionRunningMode.LIVE_STREAM,\n",
    "    result_callback=action_callback,\n",
    ")\n",
    "\n",
    "recognizer = GestureRecognizer.create_from_options(options)"
   ]
  },
  {
   "cell_type": "markdown",
   "metadata": {},
   "source": [
    "## Improving recognition with MiDaS"
   ]
  },
  {
   "cell_type": "markdown",
   "metadata": {},
   "source": [
    "For every frame:\n",
    "\n",
    "1. A depth mask is obtained and scaled from 0 to 1 (where 0 means far from the cam objective).\n",
    "2. The mask is multiplied by the original frame so that every far element becomes darker."
   ]
  },
  {
   "cell_type": "code",
   "execution_count": null,
   "metadata": {},
   "outputs": [],
   "source": [
    "midas = MidasModel()"
   ]
  },
  {
   "cell_type": "markdown",
   "metadata": {},
   "source": [
    "## The detection loop"
   ]
  },
  {
   "cell_type": "code",
   "execution_count": null,
   "metadata": {},
   "outputs": [],
   "source": [
    "cam = cv.VideoCapture(0)\n",
    "print(\"Press 'q' to quit\")\n",
    "key_pressed = False\n",
    "while True:\n",
    "    success, frame = cam.read()\n",
    "    frame = cv.flip(frame, 1)\n",
    "\n",
    "    if not success:\n",
    "        print(\"Camera Frame not available\")\n",
    "        continue\n",
    "\n",
    "    adjusted_frame = midas.predict_adjust(frame)\n",
    "\n",
    "    frame_mp = mp.Image(image_format=mp.ImageFormat.SRGB, data=adjusted_frame)\n",
    "\n",
    "    timestamp_seconds = time.time()\n",
    "\n",
    "    frame_timestamp_ms = int(timestamp_seconds * 1000)\n",
    "\n",
    "    if not key_pressed:\n",
    "        recognizer.recognize_async(frame_mp, frame_timestamp_ms)\n",
    "\n",
    "    if key_pressed:\n",
    "        time.sleep(2)\n",
    "        key_pressed = False\n",
    "    cv.imshow(\"Show Video\", adjusted_frame)\n",
    "\n",
    "    if cv.waitKey(20) & 0xFF == ord(\"q\"):\n",
    "        cam.release()\n",
    "        break\n",
    "\n",
    "cam.release()\n",
    "cv.destroyAllWindows()"
   ]
  }
 ],
 "metadata": {
  "kernelspec": {
   "display_name": "Python 3",
   "language": "python",
   "name": "python3"
  },
  "language_info": {
   "codemirror_mode": {
    "name": "ipython",
    "version": 3
   },
   "file_extension": ".py",
   "mimetype": "text/x-python",
   "name": "python",
   "nbconvert_exporter": "python",
   "pygments_lexer": "ipython3",
   "version": "3.9.2"
  }
 },
 "nbformat": 4,
 "nbformat_minor": 2
}
